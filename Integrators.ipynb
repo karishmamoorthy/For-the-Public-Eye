{
 "cells": [
  {
   "cell_type": "markdown",
   "metadata": {},
   "source": [
    "Have used 3 types of integrators in this notebook - Monte-Carlo, Trapezoid and Riemann (i.e. rectangular)\n",
    "\n",
    "The goal is to attempt to integrate a function (called fn) that does not seem to have an analytic solution at the moment (maybe will find one soon)\n",
    "\n",
    "Also - making observations about the behaviour of the graph of fn and its integral\n",
    "\n",
    "Note - found trapezoid integrator to be most precise and efficient - possibly most accurate."
   ]
  },
  {
   "cell_type": "code",
   "execution_count": 39,
   "metadata": {},
   "outputs": [
    {
     "name": "stdout",
     "output_type": "stream",
     "text": [
      "Populating the interactive namespace from numpy and matplotlib\n"
     ]
    },
    {
     "name": "stderr",
     "output_type": "stream",
     "text": [
      "/opt/conda/lib/python3.6/site-packages/IPython/core/magics/pylab.py:160: UserWarning: pylab import has clobbered these variables: ['rand']\n",
      "`%matplotlib` prevents importing * from pylab and numpy\n",
      "  \"\\n`%matplotlib` prevents importing * from pylab and numpy\"\n"
     ]
    }
   ],
   "source": [
    "import numpy as np\n",
    "import matplotlib.pyplot as plt\n",
    "%pylab nbagg"
   ]
  },
  {
   "cell_type": "code",
   "execution_count": 2,
   "metadata": {},
   "outputs": [],
   "source": [
    "def fn(u, y):\n",
    "    return (np.e**(u))*np.sqrt(u**2 + y**2)"
   ]
  },
  {
   "cell_type": "markdown",
   "metadata": {},
   "source": [
    "Now trying Monte-Carlo Method:"
   ]
  },
  {
   "cell_type": "code",
   "execution_count": 3,
   "metadata": {},
   "outputs": [],
   "source": [
    "import random as rand"
   ]
  },
  {
   "cell_type": "code",
   "execution_count": 4,
   "metadata": {},
   "outputs": [],
   "source": [
    "def monte_carlo_integrator(a, b, n, c=0):\n",
    "    n = int(n)\n",
    "    dx = (b - a)/n\n",
    "    area = 0\n",
    "    for i in range(n+1):\n",
    "        area += dx*fn(rand.uniform(a, b), c)\n",
    "    return area"
   ]
  },
  {
   "cell_type": "code",
   "execution_count": 5,
   "metadata": {},
   "outputs": [
    {
     "name": "stdout",
     "output_type": "stream",
     "text": [
      "29112.0695804\n"
     ]
    }
   ],
   "source": [
    "print(monte_carlo_integrator(-10, 10, int(1e1), 8))"
   ]
  },
  {
   "cell_type": "code",
   "execution_count": 6,
   "metadata": {},
   "outputs": [
    {
     "name": "stdout",
     "output_type": "stream",
     "text": [
      "270182.062239\n"
     ]
    }
   ],
   "source": [
    "print(monte_carlo_integrator(-10, 10, int(1e2), 8))"
   ]
  },
  {
   "cell_type": "code",
   "execution_count": 7,
   "metadata": {},
   "outputs": [
    {
     "name": "stdout",
     "output_type": "stream",
     "text": [
      "281864.191475\n"
     ]
    }
   ],
   "source": [
    "print(monte_carlo_integrator(-10, 10, int(1e3), 8))"
   ]
  },
  {
   "cell_type": "code",
   "execution_count": 8,
   "metadata": {},
   "outputs": [
    {
     "name": "stdout",
     "output_type": "stream",
     "text": [
      "268466.294549\n"
     ]
    }
   ],
   "source": [
    "print(monte_carlo_integrator(-10, 10, int(1e4), 8))"
   ]
  },
  {
   "cell_type": "code",
   "execution_count": 9,
   "metadata": {},
   "outputs": [
    {
     "name": "stdout",
     "output_type": "stream",
     "text": [
      "262532.500293\n"
     ]
    }
   ],
   "source": [
    "print(monte_carlo_integrator(-10, 10, int(1e5), 8))"
   ]
  },
  {
   "cell_type": "code",
   "execution_count": 10,
   "metadata": {},
   "outputs": [
    {
     "name": "stdout",
     "output_type": "stream",
     "text": [
      "266184.351943\n"
     ]
    }
   ],
   "source": [
    "print(monte_carlo_integrator(-10, 10, int(1e6), 8))"
   ]
  },
  {
   "cell_type": "code",
   "execution_count": 11,
   "metadata": {},
   "outputs": [
    {
     "name": "stdout",
     "output_type": "stream",
     "text": [
      "264578.062639\n"
     ]
    }
   ],
   "source": [
    "print(monte_carlo_integrator(-10, 10, int(1e6), 8))"
   ]
  },
  {
   "cell_type": "code",
   "execution_count": 12,
   "metadata": {},
   "outputs": [
    {
     "name": "stdout",
     "output_type": "stream",
     "text": [
      "265934.410558\n"
     ]
    }
   ],
   "source": [
    "print(monte_carlo_integrator(-10, 10, int(1e7), 8))"
   ]
  },
  {
   "cell_type": "markdown",
   "metadata": {},
   "source": [
    "Now trying Trapezoid rule:"
   ]
  },
  {
   "cell_type": "code",
   "execution_count": 13,
   "metadata": {},
   "outputs": [],
   "source": [
    "def trapezoid_integrator(a, b, n, c=0):\n",
    "    n = int(n)\n",
    "    dx = (b - a)/n\n",
    "    area = dx*((fn(a, c) + fn(b, c))/2)\n",
    "    for i in range(2, n):\n",
    "        area += dx*(fn(a + i*dx, c))\n",
    "    return area"
   ]
  },
  {
   "cell_type": "code",
   "execution_count": 14,
   "metadata": {},
   "outputs": [
    {
     "name": "stdout",
     "output_type": "stream",
     "text": [
      "358713.503925\n"
     ]
    }
   ],
   "source": [
    "print(trapezoid_integrator(-10, 10, 1e1, 8))"
   ]
  },
  {
   "cell_type": "code",
   "execution_count": 15,
   "metadata": {},
   "outputs": [
    {
     "name": "stdout",
     "output_type": "stream",
     "text": [
      "266696.497898\n"
     ]
    }
   ],
   "source": [
    "print(trapezoid_integrator(-10, 10, 1e2, 8))"
   ]
  },
  {
   "cell_type": "code",
   "execution_count": 16,
   "metadata": {},
   "outputs": [
    {
     "name": "stdout",
     "output_type": "stream",
     "text": [
      "265709.631492\n"
     ]
    }
   ],
   "source": [
    "print(trapezoid_integrator(-10, 10, 1e3, 8))"
   ]
  },
  {
   "cell_type": "code",
   "execution_count": 17,
   "metadata": {},
   "outputs": [
    {
     "name": "stdout",
     "output_type": "stream",
     "text": [
      "265699.755464\n"
     ]
    }
   ],
   "source": [
    "print(trapezoid_integrator(-10, 10, 1e4, 8))"
   ]
  },
  {
   "cell_type": "code",
   "execution_count": 18,
   "metadata": {},
   "outputs": [
    {
     "name": "stdout",
     "output_type": "stream",
     "text": [
      "265699.656704\n"
     ]
    }
   ],
   "source": [
    "print(trapezoid_integrator(-10, 10, 1e5, 8))"
   ]
  },
  {
   "cell_type": "code",
   "execution_count": 19,
   "metadata": {},
   "outputs": [
    {
     "name": "stdout",
     "output_type": "stream",
     "text": [
      "265699.655716\n"
     ]
    }
   ],
   "source": [
    "print(trapezoid_integrator(-10, 10, 1e6, 8))"
   ]
  },
  {
   "cell_type": "code",
   "execution_count": 20,
   "metadata": {},
   "outputs": [
    {
     "name": "stdout",
     "output_type": "stream",
     "text": [
      "265699.655716\n"
     ]
    }
   ],
   "source": [
    "print(trapezoid_integrator(-10, 10, 1e6, 8))"
   ]
  },
  {
   "cell_type": "code",
   "execution_count": 21,
   "metadata": {},
   "outputs": [],
   "source": [
    "#print(trapezoid_integrator(-10, 10, 1e7, 8)) - took too long"
   ]
  },
  {
   "cell_type": "markdown",
   "metadata": {},
   "source": [
    "Now trying Riemann sum - i.e. Rectangular integration:"
   ]
  },
  {
   "cell_type": "code",
   "execution_count": 22,
   "metadata": {},
   "outputs": [],
   "source": [
    "def riemann_integrator(a, b, n, c=0):\n",
    "    n = int(n)\n",
    "    dx = (b - a)/n\n",
    "    area = 0\n",
    "    for i in range(n):\n",
    "        area += dx*(fn(a + i*dx, c))\n",
    "    return area"
   ]
  },
  {
   "cell_type": "code",
   "execution_count": 23,
   "metadata": {},
   "outputs": [
    {
     "name": "stdout",
     "output_type": "stream",
     "text": [
      "76637.1181058\n"
     ]
    }
   ],
   "source": [
    "print(riemann_integrator(-10, 10, 1e1, 8))"
   ]
  },
  {
   "cell_type": "code",
   "execution_count": 24,
   "metadata": {},
   "outputs": [
    {
     "name": "stdout",
     "output_type": "stream",
     "text": [
      "238488.858697\n"
     ]
    }
   ],
   "source": [
    "print(riemann_integrator(-10, 10, 1e2, 8))"
   ]
  },
  {
   "cell_type": "code",
   "execution_count": 25,
   "metadata": {},
   "outputs": [
    {
     "name": "stdout",
     "output_type": "stream",
     "text": [
      "262888.86757\n"
     ]
    }
   ],
   "source": [
    "print(riemann_integrator(-10, 10, 1e3, 8))"
   ]
  },
  {
   "cell_type": "code",
   "execution_count": 26,
   "metadata": {},
   "outputs": [
    {
     "name": "stdout",
     "output_type": "stream",
     "text": [
      "265417.679072\n"
     ]
    }
   ],
   "source": [
    "print(riemann_integrator(-10, 10, 1e4, 8))"
   ]
  },
  {
   "cell_type": "code",
   "execution_count": 27,
   "metadata": {},
   "outputs": [
    {
     "name": "stdout",
     "output_type": "stream",
     "text": [
      "265671.449065\n"
     ]
    }
   ],
   "source": [
    "print(riemann_integrator(-10, 10, 1e5, 8))"
   ]
  },
  {
   "cell_type": "code",
   "execution_count": 28,
   "metadata": {},
   "outputs": [
    {
     "name": "stdout",
     "output_type": "stream",
     "text": [
      "265696.834952\n"
     ]
    }
   ],
   "source": [
    "print(riemann_integrator(-10, 10, 1e6, 8))"
   ]
  },
  {
   "cell_type": "code",
   "execution_count": 29,
   "metadata": {},
   "outputs": [
    {
     "name": "stdout",
     "output_type": "stream",
     "text": [
      "265696.834952\n"
     ]
    }
   ],
   "source": [
    "print(riemann_integrator(-10, 10, 1e6, 8))"
   ]
  },
  {
   "cell_type": "code",
   "execution_count": 34,
   "metadata": {},
   "outputs": [],
   "source": [
    "#print(riemann_integrator(-10, 10, 1e7, 8)) - took too long"
   ]
  },
  {
   "cell_type": "markdown",
   "metadata": {},
   "source": [
    "Analyzing behaviour of fn and its integral. Have used trapezoid integrator as was more precise."
   ]
  },
  {
   "cell_type": "code",
   "execution_count": 35,
   "metadata": {},
   "outputs": [
    {
     "data": {
      "text/plain": [
       "18237.133079149586"
      ]
     },
     "execution_count": 35,
     "metadata": {},
     "output_type": "execute_result"
    }
   ],
   "source": [
    "fn(10, 6) - trapezoid_integrator(-10, 10, 1e6, 6)"
   ]
  },
  {
   "cell_type": "code",
   "execution_count": 37,
   "metadata": {},
   "outputs": [
    {
     "data": {
      "text/plain": [
       "16376.738275052165"
      ]
     },
     "execution_count": 37,
     "metadata": {},
     "output_type": "execute_result"
    }
   ],
   "source": [
    "fn(10, 8) - trapezoid_integrator(-10, 10, 1e6, 8)"
   ]
  },
  {
   "cell_type": "code",
   "execution_count": 38,
   "metadata": {},
   "outputs": [
    {
     "ename": "ValueError",
     "evalue": "dfnum <= 0",
     "output_type": "error",
     "traceback": [
      "\u001b[0;31m---------------------------------------------------------------------------\u001b[0m",
      "\u001b[0;31mValueError\u001b[0m                                Traceback (most recent call last)",
      "\u001b[0;32m<ipython-input-38-194f2c4bcca9>\u001b[0m in \u001b[0;36m<module>\u001b[0;34m()\u001b[0m\n\u001b[0;32m----> 1\u001b[0;31m \u001b[0mfn\u001b[0m\u001b[0;34m(\u001b[0m\u001b[0;36m10\u001b[0m\u001b[0;34m,\u001b[0m \u001b[0;36m6\u001b[0m\u001b[0;34m)\u001b[0m \u001b[0;34m-\u001b[0m \u001b[0mtrapezoid_integrator\u001b[0m\u001b[0;34m(\u001b[0m\u001b[0;34m-\u001b[0m\u001b[0;36m10\u001b[0m\u001b[0;34m,\u001b[0m \u001b[0;36m10\u001b[0m\u001b[0;34m,\u001b[0m \u001b[0;36m1e6\u001b[0m\u001b[0;34m,\u001b[0m \u001b[0;36m6\u001b[0m\u001b[0;34m)\u001b[0m \u001b[0;34m-\u001b[0m \u001b[0mabs\u001b[0m\u001b[0;34m(\u001b[0m\u001b[0mf\u001b[0m\u001b[0;34m(\u001b[0m\u001b[0;34m-\u001b[0m\u001b[0;36m10\u001b[0m\u001b[0;34m,\u001b[0m \u001b[0;36m6\u001b[0m\u001b[0;34m)\u001b[0m\u001b[0;34m)\u001b[0m\u001b[0;34m\u001b[0m\u001b[0m\n\u001b[0m",
      "\u001b[0;32mmtrand.pyx\u001b[0m in \u001b[0;36mmtrand.RandomState.f (numpy/random/mtrand/mtrand.c:23380)\u001b[0;34m()\u001b[0m\n",
      "\u001b[0;31mValueError\u001b[0m: dfnum <= 0"
     ]
    }
   ],
   "source": [
    "fn(10, 6) - trapezoid_integrator(-10, 10, 1e6, 6) - abs(f(-10, 6))"
   ]
  },
  {
   "cell_type": "code",
   "execution_count": 41,
   "metadata": {},
   "outputs": [
    {
     "data": {
      "text/plain": [
       "11864.642070689879"
      ]
     },
     "execution_count": 41,
     "metadata": {},
     "output_type": "execute_result"
    }
   ],
   "source": [
    "fn(10, 14) - trapezoid_integrator(-10, 10, 1e6, 14)"
   ]
  },
  {
   "cell_type": "code",
   "execution_count": 42,
   "metadata": {},
   "outputs": [
    {
     "data": {
      "text/plain": [
       "20.270475655794144"
      ]
     },
     "execution_count": 42,
     "metadata": {},
     "output_type": "execute_result"
    }
   ],
   "source": [
    "fn(10, 10000) - trapezoid_integrator(-10, 10, 1e6, 10000)"
   ]
  },
  {
   "cell_type": "code",
   "execution_count": 45,
   "metadata": {},
   "outputs": [
    {
     "data": {
      "text/plain": [
       "9.9245061874389648"
      ]
     },
     "execution_count": 45,
     "metadata": {},
     "output_type": "execute_result"
    }
   ],
   "source": [
    "fn(10, 200000) - trapezoid_integrator(-10, 10, 1e6, 200000)"
   ]
  },
  {
   "cell_type": "markdown",
   "metadata": {},
   "source": [
    "From above, we find that the difference between fn(10, y) and its integral (from -10 to 10, for given y), decreases as y increases"
   ]
  },
  {
   "cell_type": "code",
   "execution_count": 40,
   "metadata": {},
   "outputs": [
    {
     "name": "stderr",
     "output_type": "stream",
     "text": [
      "/opt/conda/lib/python3.6/site-packages/ipykernel_launcher.py:2: DeprecationWarning: object of type <class 'float'> cannot be safely interpreted as an integer.\n",
      "  \n"
     ]
    },
    {
     "data": {
      "application/javascript": [
       "/* Put everything inside the global mpl namespace */\n",
       "window.mpl = {};\n",
       "\n",
       "\n",
       "mpl.get_websocket_type = function() {\n",
       "    if (typeof(WebSocket) !== 'undefined') {\n",
       "        return WebSocket;\n",
       "    } else if (typeof(MozWebSocket) !== 'undefined') {\n",
       "        return MozWebSocket;\n",
       "    } else {\n",
       "        alert('Your browser does not have WebSocket support.' +\n",
       "              'Please try Chrome, Safari or Firefox ≥ 6. ' +\n",
       "              'Firefox 4 and 5 are also supported but you ' +\n",
       "              'have to enable WebSockets in about:config.');\n",
       "    };\n",
       "}\n",
       "\n",
       "mpl.figure = function(figure_id, websocket, ondownload, parent_element) {\n",
       "    this.id = figure_id;\n",
       "\n",
       "    this.ws = websocket;\n",
       "\n",
       "    this.supports_binary = (this.ws.binaryType != undefined);\n",
       "\n",
       "    if (!this.supports_binary) {\n",
       "        var warnings = document.getElementById(\"mpl-warnings\");\n",
       "        if (warnings) {\n",
       "            warnings.style.display = 'block';\n",
       "            warnings.textContent = (\n",
       "                \"This browser does not support binary websocket messages. \" +\n",
       "                    \"Performance may be slow.\");\n",
       "        }\n",
       "    }\n",
       "\n",
       "    this.imageObj = new Image();\n",
       "\n",
       "    this.context = undefined;\n",
       "    this.message = undefined;\n",
       "    this.canvas = undefined;\n",
       "    this.rubberband_canvas = undefined;\n",
       "    this.rubberband_context = undefined;\n",
       "    this.format_dropdown = undefined;\n",
       "\n",
       "    this.image_mode = 'full';\n",
       "\n",
       "    this.root = $('<div/>');\n",
       "    this._root_extra_style(this.root)\n",
       "    this.root.attr('style', 'display: inline-block');\n",
       "\n",
       "    $(parent_element).append(this.root);\n",
       "\n",
       "    this._init_header(this);\n",
       "    this._init_canvas(this);\n",
       "    this._init_toolbar(this);\n",
       "\n",
       "    var fig = this;\n",
       "\n",
       "    this.waiting = false;\n",
       "\n",
       "    this.ws.onopen =  function () {\n",
       "            fig.send_message(\"supports_binary\", {value: fig.supports_binary});\n",
       "            fig.send_message(\"send_image_mode\", {});\n",
       "            if (mpl.ratio != 1) {\n",
       "                fig.send_message(\"set_dpi_ratio\", {'dpi_ratio': mpl.ratio});\n",
       "            }\n",
       "            fig.send_message(\"refresh\", {});\n",
       "        }\n",
       "\n",
       "    this.imageObj.onload = function() {\n",
       "            if (fig.image_mode == 'full') {\n",
       "                // Full images could contain transparency (where diff images\n",
       "                // almost always do), so we need to clear the canvas so that\n",
       "                // there is no ghosting.\n",
       "                fig.context.clearRect(0, 0, fig.canvas.width, fig.canvas.height);\n",
       "            }\n",
       "            fig.context.drawImage(fig.imageObj, 0, 0);\n",
       "        };\n",
       "\n",
       "    this.imageObj.onunload = function() {\n",
       "        fig.ws.close();\n",
       "    }\n",
       "\n",
       "    this.ws.onmessage = this._make_on_message_function(this);\n",
       "\n",
       "    this.ondownload = ondownload;\n",
       "}\n",
       "\n",
       "mpl.figure.prototype._init_header = function() {\n",
       "    var titlebar = $(\n",
       "        '<div class=\"ui-dialog-titlebar ui-widget-header ui-corner-all ' +\n",
       "        'ui-helper-clearfix\"/>');\n",
       "    var titletext = $(\n",
       "        '<div class=\"ui-dialog-title\" style=\"width: 100%; ' +\n",
       "        'text-align: center; padding: 3px;\"/>');\n",
       "    titlebar.append(titletext)\n",
       "    this.root.append(titlebar);\n",
       "    this.header = titletext[0];\n",
       "}\n",
       "\n",
       "\n",
       "\n",
       "mpl.figure.prototype._canvas_extra_style = function(canvas_div) {\n",
       "\n",
       "}\n",
       "\n",
       "\n",
       "mpl.figure.prototype._root_extra_style = function(canvas_div) {\n",
       "\n",
       "}\n",
       "\n",
       "mpl.figure.prototype._init_canvas = function() {\n",
       "    var fig = this;\n",
       "\n",
       "    var canvas_div = $('<div/>');\n",
       "\n",
       "    canvas_div.attr('style', 'position: relative; clear: both; outline: 0');\n",
       "\n",
       "    function canvas_keyboard_event(event) {\n",
       "        return fig.key_event(event, event['data']);\n",
       "    }\n",
       "\n",
       "    canvas_div.keydown('key_press', canvas_keyboard_event);\n",
       "    canvas_div.keyup('key_release', canvas_keyboard_event);\n",
       "    this.canvas_div = canvas_div\n",
       "    this._canvas_extra_style(canvas_div)\n",
       "    this.root.append(canvas_div);\n",
       "\n",
       "    var canvas = $('<canvas/>');\n",
       "    canvas.addClass('mpl-canvas');\n",
       "    canvas.attr('style', \"left: 0; top: 0; z-index: 0; outline: 0\")\n",
       "\n",
       "    this.canvas = canvas[0];\n",
       "    this.context = canvas[0].getContext(\"2d\");\n",
       "\n",
       "    var backingStore = this.context.backingStorePixelRatio ||\n",
       "\tthis.context.webkitBackingStorePixelRatio ||\n",
       "\tthis.context.mozBackingStorePixelRatio ||\n",
       "\tthis.context.msBackingStorePixelRatio ||\n",
       "\tthis.context.oBackingStorePixelRatio ||\n",
       "\tthis.context.backingStorePixelRatio || 1;\n",
       "\n",
       "    mpl.ratio = (window.devicePixelRatio || 1) / backingStore;\n",
       "\n",
       "    var rubberband = $('<canvas/>');\n",
       "    rubberband.attr('style', \"position: absolute; left: 0; top: 0; z-index: 1;\")\n",
       "\n",
       "    var pass_mouse_events = true;\n",
       "\n",
       "    canvas_div.resizable({\n",
       "        start: function(event, ui) {\n",
       "            pass_mouse_events = false;\n",
       "        },\n",
       "        resize: function(event, ui) {\n",
       "            fig.request_resize(ui.size.width, ui.size.height);\n",
       "        },\n",
       "        stop: function(event, ui) {\n",
       "            pass_mouse_events = true;\n",
       "            fig.request_resize(ui.size.width, ui.size.height);\n",
       "        },\n",
       "    });\n",
       "\n",
       "    function mouse_event_fn(event) {\n",
       "        if (pass_mouse_events)\n",
       "            return fig.mouse_event(event, event['data']);\n",
       "    }\n",
       "\n",
       "    rubberband.mousedown('button_press', mouse_event_fn);\n",
       "    rubberband.mouseup('button_release', mouse_event_fn);\n",
       "    // Throttle sequential mouse events to 1 every 20ms.\n",
       "    rubberband.mousemove('motion_notify', mouse_event_fn);\n",
       "\n",
       "    rubberband.mouseenter('figure_enter', mouse_event_fn);\n",
       "    rubberband.mouseleave('figure_leave', mouse_event_fn);\n",
       "\n",
       "    canvas_div.on(\"wheel\", function (event) {\n",
       "        event = event.originalEvent;\n",
       "        event['data'] = 'scroll'\n",
       "        if (event.deltaY < 0) {\n",
       "            event.step = 1;\n",
       "        } else {\n",
       "            event.step = -1;\n",
       "        }\n",
       "        mouse_event_fn(event);\n",
       "    });\n",
       "\n",
       "    canvas_div.append(canvas);\n",
       "    canvas_div.append(rubberband);\n",
       "\n",
       "    this.rubberband = rubberband;\n",
       "    this.rubberband_canvas = rubberband[0];\n",
       "    this.rubberband_context = rubberband[0].getContext(\"2d\");\n",
       "    this.rubberband_context.strokeStyle = \"#000000\";\n",
       "\n",
       "    this._resize_canvas = function(width, height) {\n",
       "        // Keep the size of the canvas, canvas container, and rubber band\n",
       "        // canvas in synch.\n",
       "        canvas_div.css('width', width)\n",
       "        canvas_div.css('height', height)\n",
       "\n",
       "        canvas.attr('width', width * mpl.ratio);\n",
       "        canvas.attr('height', height * mpl.ratio);\n",
       "        canvas.attr('style', 'width: ' + width + 'px; height: ' + height + 'px;');\n",
       "\n",
       "        rubberband.attr('width', width);\n",
       "        rubberband.attr('height', height);\n",
       "    }\n",
       "\n",
       "    // Set the figure to an initial 600x600px, this will subsequently be updated\n",
       "    // upon first draw.\n",
       "    this._resize_canvas(600, 600);\n",
       "\n",
       "    // Disable right mouse context menu.\n",
       "    $(this.rubberband_canvas).bind(\"contextmenu\",function(e){\n",
       "        return false;\n",
       "    });\n",
       "\n",
       "    function set_focus () {\n",
       "        canvas.focus();\n",
       "        canvas_div.focus();\n",
       "    }\n",
       "\n",
       "    window.setTimeout(set_focus, 100);\n",
       "}\n",
       "\n",
       "mpl.figure.prototype._init_toolbar = function() {\n",
       "    var fig = this;\n",
       "\n",
       "    var nav_element = $('<div/>')\n",
       "    nav_element.attr('style', 'width: 100%');\n",
       "    this.root.append(nav_element);\n",
       "\n",
       "    // Define a callback function for later on.\n",
       "    function toolbar_event(event) {\n",
       "        return fig.toolbar_button_onclick(event['data']);\n",
       "    }\n",
       "    function toolbar_mouse_event(event) {\n",
       "        return fig.toolbar_button_onmouseover(event['data']);\n",
       "    }\n",
       "\n",
       "    for(var toolbar_ind in mpl.toolbar_items) {\n",
       "        var name = mpl.toolbar_items[toolbar_ind][0];\n",
       "        var tooltip = mpl.toolbar_items[toolbar_ind][1];\n",
       "        var image = mpl.toolbar_items[toolbar_ind][2];\n",
       "        var method_name = mpl.toolbar_items[toolbar_ind][3];\n",
       "\n",
       "        if (!name) {\n",
       "            // put a spacer in here.\n",
       "            continue;\n",
       "        }\n",
       "        var button = $('<button/>');\n",
       "        button.addClass('ui-button ui-widget ui-state-default ui-corner-all ' +\n",
       "                        'ui-button-icon-only');\n",
       "        button.attr('role', 'button');\n",
       "        button.attr('aria-disabled', 'false');\n",
       "        button.click(method_name, toolbar_event);\n",
       "        button.mouseover(tooltip, toolbar_mouse_event);\n",
       "\n",
       "        var icon_img = $('<span/>');\n",
       "        icon_img.addClass('ui-button-icon-primary ui-icon');\n",
       "        icon_img.addClass(image);\n",
       "        icon_img.addClass('ui-corner-all');\n",
       "\n",
       "        var tooltip_span = $('<span/>');\n",
       "        tooltip_span.addClass('ui-button-text');\n",
       "        tooltip_span.html(tooltip);\n",
       "\n",
       "        button.append(icon_img);\n",
       "        button.append(tooltip_span);\n",
       "\n",
       "        nav_element.append(button);\n",
       "    }\n",
       "\n",
       "    var fmt_picker_span = $('<span/>');\n",
       "\n",
       "    var fmt_picker = $('<select/>');\n",
       "    fmt_picker.addClass('mpl-toolbar-option ui-widget ui-widget-content');\n",
       "    fmt_picker_span.append(fmt_picker);\n",
       "    nav_element.append(fmt_picker_span);\n",
       "    this.format_dropdown = fmt_picker[0];\n",
       "\n",
       "    for (var ind in mpl.extensions) {\n",
       "        var fmt = mpl.extensions[ind];\n",
       "        var option = $(\n",
       "            '<option/>', {selected: fmt === mpl.default_extension}).html(fmt);\n",
       "        fmt_picker.append(option)\n",
       "    }\n",
       "\n",
       "    // Add hover states to the ui-buttons\n",
       "    $( \".ui-button\" ).hover(\n",
       "        function() { $(this).addClass(\"ui-state-hover\");},\n",
       "        function() { $(this).removeClass(\"ui-state-hover\");}\n",
       "    );\n",
       "\n",
       "    var status_bar = $('<span class=\"mpl-message\"/>');\n",
       "    nav_element.append(status_bar);\n",
       "    this.message = status_bar[0];\n",
       "}\n",
       "\n",
       "mpl.figure.prototype.request_resize = function(x_pixels, y_pixels) {\n",
       "    // Request matplotlib to resize the figure. Matplotlib will then trigger a resize in the client,\n",
       "    // which will in turn request a refresh of the image.\n",
       "    this.send_message('resize', {'width': x_pixels, 'height': y_pixels});\n",
       "}\n",
       "\n",
       "mpl.figure.prototype.send_message = function(type, properties) {\n",
       "    properties['type'] = type;\n",
       "    properties['figure_id'] = this.id;\n",
       "    this.ws.send(JSON.stringify(properties));\n",
       "}\n",
       "\n",
       "mpl.figure.prototype.send_draw_message = function() {\n",
       "    if (!this.waiting) {\n",
       "        this.waiting = true;\n",
       "        this.ws.send(JSON.stringify({type: \"draw\", figure_id: this.id}));\n",
       "    }\n",
       "}\n",
       "\n",
       "\n",
       "mpl.figure.prototype.handle_save = function(fig, msg) {\n",
       "    var format_dropdown = fig.format_dropdown;\n",
       "    var format = format_dropdown.options[format_dropdown.selectedIndex].value;\n",
       "    fig.ondownload(fig, format);\n",
       "}\n",
       "\n",
       "\n",
       "mpl.figure.prototype.handle_resize = function(fig, msg) {\n",
       "    var size = msg['size'];\n",
       "    if (size[0] != fig.canvas.width || size[1] != fig.canvas.height) {\n",
       "        fig._resize_canvas(size[0], size[1]);\n",
       "        fig.send_message(\"refresh\", {});\n",
       "    };\n",
       "}\n",
       "\n",
       "mpl.figure.prototype.handle_rubberband = function(fig, msg) {\n",
       "    var x0 = msg['x0'] / mpl.ratio;\n",
       "    var y0 = (fig.canvas.height - msg['y0']) / mpl.ratio;\n",
       "    var x1 = msg['x1'] / mpl.ratio;\n",
       "    var y1 = (fig.canvas.height - msg['y1']) / mpl.ratio;\n",
       "    x0 = Math.floor(x0) + 0.5;\n",
       "    y0 = Math.floor(y0) + 0.5;\n",
       "    x1 = Math.floor(x1) + 0.5;\n",
       "    y1 = Math.floor(y1) + 0.5;\n",
       "    var min_x = Math.min(x0, x1);\n",
       "    var min_y = Math.min(y0, y1);\n",
       "    var width = Math.abs(x1 - x0);\n",
       "    var height = Math.abs(y1 - y0);\n",
       "\n",
       "    fig.rubberband_context.clearRect(\n",
       "        0, 0, fig.canvas.width, fig.canvas.height);\n",
       "\n",
       "    fig.rubberband_context.strokeRect(min_x, min_y, width, height);\n",
       "}\n",
       "\n",
       "mpl.figure.prototype.handle_figure_label = function(fig, msg) {\n",
       "    // Updates the figure title.\n",
       "    fig.header.textContent = msg['label'];\n",
       "}\n",
       "\n",
       "mpl.figure.prototype.handle_cursor = function(fig, msg) {\n",
       "    var cursor = msg['cursor'];\n",
       "    switch(cursor)\n",
       "    {\n",
       "    case 0:\n",
       "        cursor = 'pointer';\n",
       "        break;\n",
       "    case 1:\n",
       "        cursor = 'default';\n",
       "        break;\n",
       "    case 2:\n",
       "        cursor = 'crosshair';\n",
       "        break;\n",
       "    case 3:\n",
       "        cursor = 'move';\n",
       "        break;\n",
       "    }\n",
       "    fig.rubberband_canvas.style.cursor = cursor;\n",
       "}\n",
       "\n",
       "mpl.figure.prototype.handle_message = function(fig, msg) {\n",
       "    fig.message.textContent = msg['message'];\n",
       "}\n",
       "\n",
       "mpl.figure.prototype.handle_draw = function(fig, msg) {\n",
       "    // Request the server to send over a new figure.\n",
       "    fig.send_draw_message();\n",
       "}\n",
       "\n",
       "mpl.figure.prototype.handle_image_mode = function(fig, msg) {\n",
       "    fig.image_mode = msg['mode'];\n",
       "}\n",
       "\n",
       "mpl.figure.prototype.updated_canvas_event = function() {\n",
       "    // Called whenever the canvas gets updated.\n",
       "    this.send_message(\"ack\", {});\n",
       "}\n",
       "\n",
       "// A function to construct a web socket function for onmessage handling.\n",
       "// Called in the figure constructor.\n",
       "mpl.figure.prototype._make_on_message_function = function(fig) {\n",
       "    return function socket_on_message(evt) {\n",
       "        if (evt.data instanceof Blob) {\n",
       "            /* FIXME: We get \"Resource interpreted as Image but\n",
       "             * transferred with MIME type text/plain:\" errors on\n",
       "             * Chrome.  But how to set the MIME type?  It doesn't seem\n",
       "             * to be part of the websocket stream */\n",
       "            evt.data.type = \"image/png\";\n",
       "\n",
       "            /* Free the memory for the previous frames */\n",
       "            if (fig.imageObj.src) {\n",
       "                (window.URL || window.webkitURL).revokeObjectURL(\n",
       "                    fig.imageObj.src);\n",
       "            }\n",
       "\n",
       "            fig.imageObj.src = (window.URL || window.webkitURL).createObjectURL(\n",
       "                evt.data);\n",
       "            fig.updated_canvas_event();\n",
       "            fig.waiting = false;\n",
       "            return;\n",
       "        }\n",
       "        else if (typeof evt.data === 'string' && evt.data.slice(0, 21) == \"data:image/png;base64\") {\n",
       "            fig.imageObj.src = evt.data;\n",
       "            fig.updated_canvas_event();\n",
       "            fig.waiting = false;\n",
       "            return;\n",
       "        }\n",
       "\n",
       "        var msg = JSON.parse(evt.data);\n",
       "        var msg_type = msg['type'];\n",
       "\n",
       "        // Call the  \"handle_{type}\" callback, which takes\n",
       "        // the figure and JSON message as its only arguments.\n",
       "        try {\n",
       "            var callback = fig[\"handle_\" + msg_type];\n",
       "        } catch (e) {\n",
       "            console.log(\"No handler for the '\" + msg_type + \"' message type: \", msg);\n",
       "            return;\n",
       "        }\n",
       "\n",
       "        if (callback) {\n",
       "            try {\n",
       "                // console.log(\"Handling '\" + msg_type + \"' message: \", msg);\n",
       "                callback(fig, msg);\n",
       "            } catch (e) {\n",
       "                console.log(\"Exception inside the 'handler_\" + msg_type + \"' callback:\", e, e.stack, msg);\n",
       "            }\n",
       "        }\n",
       "    };\n",
       "}\n",
       "\n",
       "// from http://stackoverflow.com/questions/1114465/getting-mouse-location-in-canvas\n",
       "mpl.findpos = function(e) {\n",
       "    //this section is from http://www.quirksmode.org/js/events_properties.html\n",
       "    var targ;\n",
       "    if (!e)\n",
       "        e = window.event;\n",
       "    if (e.target)\n",
       "        targ = e.target;\n",
       "    else if (e.srcElement)\n",
       "        targ = e.srcElement;\n",
       "    if (targ.nodeType == 3) // defeat Safari bug\n",
       "        targ = targ.parentNode;\n",
       "\n",
       "    // jQuery normalizes the pageX and pageY\n",
       "    // pageX,Y are the mouse positions relative to the document\n",
       "    // offset() returns the position of the element relative to the document\n",
       "    var x = e.pageX - $(targ).offset().left;\n",
       "    var y = e.pageY - $(targ).offset().top;\n",
       "\n",
       "    return {\"x\": x, \"y\": y};\n",
       "};\n",
       "\n",
       "/*\n",
       " * return a copy of an object with only non-object keys\n",
       " * we need this to avoid circular references\n",
       " * http://stackoverflow.com/a/24161582/3208463\n",
       " */\n",
       "function simpleKeys (original) {\n",
       "  return Object.keys(original).reduce(function (obj, key) {\n",
       "    if (typeof original[key] !== 'object')\n",
       "        obj[key] = original[key]\n",
       "    return obj;\n",
       "  }, {});\n",
       "}\n",
       "\n",
       "mpl.figure.prototype.mouse_event = function(event, name) {\n",
       "    var canvas_pos = mpl.findpos(event)\n",
       "\n",
       "    if (name === 'button_press')\n",
       "    {\n",
       "        this.canvas.focus();\n",
       "        this.canvas_div.focus();\n",
       "    }\n",
       "\n",
       "    var x = canvas_pos.x * mpl.ratio;\n",
       "    var y = canvas_pos.y * mpl.ratio;\n",
       "\n",
       "    this.send_message(name, {x: x, y: y, button: event.button,\n",
       "                             step: event.step,\n",
       "                             guiEvent: simpleKeys(event)});\n",
       "\n",
       "    /* This prevents the web browser from automatically changing to\n",
       "     * the text insertion cursor when the button is pressed.  We want\n",
       "     * to control all of the cursor setting manually through the\n",
       "     * 'cursor' event from matplotlib */\n",
       "    event.preventDefault();\n",
       "    return false;\n",
       "}\n",
       "\n",
       "mpl.figure.prototype._key_event_extra = function(event, name) {\n",
       "    // Handle any extra behaviour associated with a key event\n",
       "}\n",
       "\n",
       "mpl.figure.prototype.key_event = function(event, name) {\n",
       "\n",
       "    // Prevent repeat events\n",
       "    if (name == 'key_press')\n",
       "    {\n",
       "        if (event.which === this._key)\n",
       "            return;\n",
       "        else\n",
       "            this._key = event.which;\n",
       "    }\n",
       "    if (name == 'key_release')\n",
       "        this._key = null;\n",
       "\n",
       "    var value = '';\n",
       "    if (event.ctrlKey && event.which != 17)\n",
       "        value += \"ctrl+\";\n",
       "    if (event.altKey && event.which != 18)\n",
       "        value += \"alt+\";\n",
       "    if (event.shiftKey && event.which != 16)\n",
       "        value += \"shift+\";\n",
       "\n",
       "    value += 'k';\n",
       "    value += event.which.toString();\n",
       "\n",
       "    this._key_event_extra(event, name);\n",
       "\n",
       "    this.send_message(name, {key: value,\n",
       "                             guiEvent: simpleKeys(event)});\n",
       "    return false;\n",
       "}\n",
       "\n",
       "mpl.figure.prototype.toolbar_button_onclick = function(name) {\n",
       "    if (name == 'download') {\n",
       "        this.handle_save(this, null);\n",
       "    } else {\n",
       "        this.send_message(\"toolbar_button\", {name: name});\n",
       "    }\n",
       "};\n",
       "\n",
       "mpl.figure.prototype.toolbar_button_onmouseover = function(tooltip) {\n",
       "    this.message.textContent = tooltip;\n",
       "};\n",
       "mpl.toolbar_items = [[\"Home\", \"Reset original view\", \"fa fa-home icon-home\", \"home\"], [\"Back\", \"Back to  previous view\", \"fa fa-arrow-left icon-arrow-left\", \"back\"], [\"Forward\", \"Forward to next view\", \"fa fa-arrow-right icon-arrow-right\", \"forward\"], [\"\", \"\", \"\", \"\"], [\"Pan\", \"Pan axes with left mouse, zoom with right\", \"fa fa-arrows icon-move\", \"pan\"], [\"Zoom\", \"Zoom to rectangle\", \"fa fa-square-o icon-check-empty\", \"zoom\"], [\"\", \"\", \"\", \"\"], [\"Download\", \"Download plot\", \"fa fa-floppy-o icon-save\", \"download\"]];\n",
       "\n",
       "mpl.extensions = [\"eps\", \"jpeg\", \"pdf\", \"png\", \"ps\", \"raw\", \"svg\", \"tif\"];\n",
       "\n",
       "mpl.default_extension = \"png\";var comm_websocket_adapter = function(comm) {\n",
       "    // Create a \"websocket\"-like object which calls the given IPython comm\n",
       "    // object with the appropriate methods. Currently this is a non binary\n",
       "    // socket, so there is still some room for performance tuning.\n",
       "    var ws = {};\n",
       "\n",
       "    ws.close = function() {\n",
       "        comm.close()\n",
       "    };\n",
       "    ws.send = function(m) {\n",
       "        //console.log('sending', m);\n",
       "        comm.send(m);\n",
       "    };\n",
       "    // Register the callback with on_msg.\n",
       "    comm.on_msg(function(msg) {\n",
       "        //console.log('receiving', msg['content']['data'], msg);\n",
       "        // Pass the mpl event to the overridden (by mpl) onmessage function.\n",
       "        ws.onmessage(msg['content']['data'])\n",
       "    });\n",
       "    return ws;\n",
       "}\n",
       "\n",
       "mpl.mpl_figure_comm = function(comm, msg) {\n",
       "    // This is the function which gets called when the mpl process\n",
       "    // starts-up an IPython Comm through the \"matplotlib\" channel.\n",
       "\n",
       "    var id = msg.content.data.id;\n",
       "    // Get hold of the div created by the display call when the Comm\n",
       "    // socket was opened in Python.\n",
       "    var element = $(\"#\" + id);\n",
       "    var ws_proxy = comm_websocket_adapter(comm)\n",
       "\n",
       "    function ondownload(figure, format) {\n",
       "        window.open(figure.imageObj.src);\n",
       "    }\n",
       "\n",
       "    var fig = new mpl.figure(id, ws_proxy,\n",
       "                           ondownload,\n",
       "                           element.get(0));\n",
       "\n",
       "    // Call onopen now - mpl needs it, as it is assuming we've passed it a real\n",
       "    // web socket which is closed, not our websocket->open comm proxy.\n",
       "    ws_proxy.onopen();\n",
       "\n",
       "    fig.parent_element = element.get(0);\n",
       "    fig.cell_info = mpl.find_output_cell(\"<div id='\" + id + \"'></div>\");\n",
       "    if (!fig.cell_info) {\n",
       "        console.error(\"Failed to find cell for figure\", id, fig);\n",
       "        return;\n",
       "    }\n",
       "\n",
       "    var output_index = fig.cell_info[2]\n",
       "    var cell = fig.cell_info[0];\n",
       "\n",
       "};\n",
       "\n",
       "mpl.figure.prototype.handle_close = function(fig, msg) {\n",
       "    var width = fig.canvas.width/mpl.ratio\n",
       "    fig.root.unbind('remove')\n",
       "\n",
       "    // Update the output cell to use the data from the current canvas.\n",
       "    fig.push_to_output();\n",
       "    var dataURL = fig.canvas.toDataURL();\n",
       "    // Re-enable the keyboard manager in IPython - without this line, in FF,\n",
       "    // the notebook keyboard shortcuts fail.\n",
       "    IPython.keyboard_manager.enable()\n",
       "    $(fig.parent_element).html('<img src=\"' + dataURL + '\" width=\"' + width + '\">');\n",
       "    fig.close_ws(fig, msg);\n",
       "}\n",
       "\n",
       "mpl.figure.prototype.close_ws = function(fig, msg){\n",
       "    fig.send_message('closing', msg);\n",
       "    // fig.ws.close()\n",
       "}\n",
       "\n",
       "mpl.figure.prototype.push_to_output = function(remove_interactive) {\n",
       "    // Turn the data on the canvas into data in the output cell.\n",
       "    var width = this.canvas.width/mpl.ratio\n",
       "    var dataURL = this.canvas.toDataURL();\n",
       "    this.cell_info[1]['text/html'] = '<img src=\"' + dataURL + '\" width=\"' + width + '\">';\n",
       "}\n",
       "\n",
       "mpl.figure.prototype.updated_canvas_event = function() {\n",
       "    // Tell IPython that the notebook contents must change.\n",
       "    IPython.notebook.set_dirty(true);\n",
       "    this.send_message(\"ack\", {});\n",
       "    var fig = this;\n",
       "    // Wait a second, then push the new image to the DOM so\n",
       "    // that it is saved nicely (might be nice to debounce this).\n",
       "    setTimeout(function () { fig.push_to_output() }, 1000);\n",
       "}\n",
       "\n",
       "mpl.figure.prototype._init_toolbar = function() {\n",
       "    var fig = this;\n",
       "\n",
       "    var nav_element = $('<div/>')\n",
       "    nav_element.attr('style', 'width: 100%');\n",
       "    this.root.append(nav_element);\n",
       "\n",
       "    // Define a callback function for later on.\n",
       "    function toolbar_event(event) {\n",
       "        return fig.toolbar_button_onclick(event['data']);\n",
       "    }\n",
       "    function toolbar_mouse_event(event) {\n",
       "        return fig.toolbar_button_onmouseover(event['data']);\n",
       "    }\n",
       "\n",
       "    for(var toolbar_ind in mpl.toolbar_items){\n",
       "        var name = mpl.toolbar_items[toolbar_ind][0];\n",
       "        var tooltip = mpl.toolbar_items[toolbar_ind][1];\n",
       "        var image = mpl.toolbar_items[toolbar_ind][2];\n",
       "        var method_name = mpl.toolbar_items[toolbar_ind][3];\n",
       "\n",
       "        if (!name) { continue; };\n",
       "\n",
       "        var button = $('<button class=\"btn btn-default\" href=\"#\" title=\"' + name + '\"><i class=\"fa ' + image + ' fa-lg\"></i></button>');\n",
       "        button.click(method_name, toolbar_event);\n",
       "        button.mouseover(tooltip, toolbar_mouse_event);\n",
       "        nav_element.append(button);\n",
       "    }\n",
       "\n",
       "    // Add the status bar.\n",
       "    var status_bar = $('<span class=\"mpl-message\" style=\"text-align:right; float: right;\"/>');\n",
       "    nav_element.append(status_bar);\n",
       "    this.message = status_bar[0];\n",
       "\n",
       "    // Add the close button to the window.\n",
       "    var buttongrp = $('<div class=\"btn-group inline pull-right\"></div>');\n",
       "    var button = $('<button class=\"btn btn-mini btn-primary\" href=\"#\" title=\"Stop Interaction\"><i class=\"fa fa-power-off icon-remove icon-large\"></i></button>');\n",
       "    button.click(function (evt) { fig.handle_close(fig, {}); } );\n",
       "    button.mouseover('Stop Interaction', toolbar_mouse_event);\n",
       "    buttongrp.append(button);\n",
       "    var titlebar = this.root.find($('.ui-dialog-titlebar'));\n",
       "    titlebar.prepend(buttongrp);\n",
       "}\n",
       "\n",
       "mpl.figure.prototype._root_extra_style = function(el){\n",
       "    var fig = this\n",
       "    el.on(\"remove\", function(){\n",
       "\tfig.close_ws(fig, {});\n",
       "    });\n",
       "}\n",
       "\n",
       "mpl.figure.prototype._canvas_extra_style = function(el){\n",
       "    // this is important to make the div 'focusable\n",
       "    el.attr('tabindex', 0)\n",
       "    // reach out to IPython and tell the keyboard manager to turn it's self\n",
       "    // off when our div gets focus\n",
       "\n",
       "    // location in version 3\n",
       "    if (IPython.notebook.keyboard_manager) {\n",
       "        IPython.notebook.keyboard_manager.register_events(el);\n",
       "    }\n",
       "    else {\n",
       "        // location in version 2\n",
       "        IPython.keyboard_manager.register_events(el);\n",
       "    }\n",
       "\n",
       "}\n",
       "\n",
       "mpl.figure.prototype._key_event_extra = function(event, name) {\n",
       "    var manager = IPython.notebook.keyboard_manager;\n",
       "    if (!manager)\n",
       "        manager = IPython.keyboard_manager;\n",
       "\n",
       "    // Check for shift+enter\n",
       "    if (event.shiftKey && event.which == 13) {\n",
       "        this.canvas_div.blur();\n",
       "        event.shiftKey = false;\n",
       "        // Send a \"J\" for go to next cell\n",
       "        event.which = 74;\n",
       "        event.keyCode = 74;\n",
       "        manager.command_mode();\n",
       "        manager.handle_keydown(event);\n",
       "    }\n",
       "}\n",
       "\n",
       "mpl.figure.prototype.handle_save = function(fig, msg) {\n",
       "    fig.ondownload(fig, null);\n",
       "}\n",
       "\n",
       "\n",
       "mpl.find_output_cell = function(html_output) {\n",
       "    // Return the cell and output element which can be found *uniquely* in the notebook.\n",
       "    // Note - this is a bit hacky, but it is done because the \"notebook_saving.Notebook\"\n",
       "    // IPython event is triggered only after the cells have been serialised, which for\n",
       "    // our purposes (turning an active figure into a static one), is too late.\n",
       "    var cells = IPython.notebook.get_cells();\n",
       "    var ncells = cells.length;\n",
       "    for (var i=0; i<ncells; i++) {\n",
       "        var cell = cells[i];\n",
       "        if (cell.cell_type === 'code'){\n",
       "            for (var j=0; j<cell.output_area.outputs.length; j++) {\n",
       "                var data = cell.output_area.outputs[j];\n",
       "                if (data.data) {\n",
       "                    // IPython >= 3 moved mimebundle to data attribute of output\n",
       "                    data = data.data;\n",
       "                }\n",
       "                if (data['text/html'] == html_output) {\n",
       "                    return [cell, data, j];\n",
       "                }\n",
       "            }\n",
       "        }\n",
       "    }\n",
       "}\n",
       "\n",
       "// Register the function which deals with the matplotlib target/channel.\n",
       "// The kernel may be null if the page has been refreshed.\n",
       "if (IPython.notebook.kernel != null) {\n",
       "    IPython.notebook.kernel.comm_manager.register_target('matplotlib', mpl.mpl_figure_comm);\n",
       "}\n"
      ],
      "text/plain": [
       "<IPython.core.display.Javascript object>"
      ]
     },
     "metadata": {},
     "output_type": "display_data"
    },
    {
     "data": {
      "text/html": [
       "<img src=\"data:image/png;base64,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\" width=\"700\">"
      ],
      "text/plain": [
       "<IPython.core.display.HTML object>"
      ]
     },
     "metadata": {},
     "output_type": "display_data"
    },
    {
     "data": {
      "text/plain": [
       "<matplotlib.legend.Legend at 0x7f5ab0954b00>"
      ]
     },
     "execution_count": 40,
     "metadata": {},
     "output_type": "execute_result"
    }
   ],
   "source": [
    "plt.close()\n",
    "x_array = np.linspace(-10, 10, 1e5)\n",
    "fig1 = figure(figsize=(7,7))\n",
    "plt.plot(x_array, fn(x_array, 8), 'r-', label=\"fn(u, y = 8)\")\n",
    "plt.plot(x_array, fn(x_array, 2), 'g-', label=\"fn(u, y = 2)\")\n",
    "plt.plot(x_array, fn(x_array, 14), 'b-', label=\"fn(u, y = 14)\")\n",
    "plt.grid(True)\n",
    "plt.title(\"fn(u, y) = sqrt(u**2 + y**2)*e^u\")\n",
    "plt.xlabel(\"u\")\n",
    "plt.ylabel(\"fn(u, y)\")\n",
    "plt.legend()"
   ]
  }
 ],
 "metadata": {
  "kernelspec": {
   "display_name": "Python 3",
   "language": "python",
   "name": "python3"
  },
  "language_info": {
   "codemirror_mode": {
    "name": "ipython",
    "version": 3
   },
   "file_extension": ".py",
   "mimetype": "text/x-python",
   "name": "python",
   "nbconvert_exporter": "python",
   "pygments_lexer": "ipython3",
   "version": "3.6.4"
  }
 },
 "nbformat": 4,
 "nbformat_minor": 2
}
