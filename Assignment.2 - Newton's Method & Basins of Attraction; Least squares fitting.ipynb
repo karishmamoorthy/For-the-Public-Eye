{
 "cells": [
  {
   "cell_type": "markdown",
   "metadata": {},
   "source": [
    "# Assignment 2 - Due Friday February 23rd, at 11:59pm\n",
    "\n",
    "Your completed assignment should be saved in your Bitbucket mp248 repository in the file **Assignment.2/Assignment.2.ipynb**.   \n",
    "\n",
    "**Do your work in a copy of this i-python notebook.**\n",
    "\n",
    "**Ensure you label your code blocks** eg: (1)(a), (2)(b), (2)(b)continued, etc.\n",
    "\n",
    "Please ensure you do not have a copy of the course repository inside your personal mp248 Bitbucket repository. This assignment uses many csv files (from the course repository).  **Do not include** these with your homework, and do not store them on your mp248 repository.  The issue here is that if you store large files in your mp248 repository it slows down the grading script substantially and makes it more difficult for us to give you timely feedback before the due date. In your code, just point to the location (outside of your personal repository) when you need them.\n"
   ]
  },
  {
   "cell_type": "markdown",
   "metadata": {
    "collapsed": true
   },
   "source": [
    "## Problem 1\n",
    "\n",
    "Recall Newton's method for finding the roots of $z^3-1$.  The iterator is\n",
    "\n",
    "$$N(z) = z-\\frac{f(z)}{f'(z)} = z - \\frac{z^3-1}{3z^2} = \\frac{2z^3+1}{3z^2}$$\n",
    "\n",
    "In this problem we ask you to use Sympy to find:\n",
    "\n",
    " (a) The points in the plane where Newton's method fails after 2 or 3 iterations. Notice that $N(z) = \\frac{2z^3+1}{3z^2}$ which is well-defined as long as $z \\neq 0$.  Thus Newton's method fails on one iteration only for $z=0$. Find both closed-form expressions for your answers as well as floating-point approximations. Print the approximations in your notebook. Use the Python casting technique **complex(z)** to convert the Sympy complex number **z** to a floating point approximation. In your notebook also count the number of points, i.e. write \"The number of points where Newton's method fails after exactly two iterations is . . .\"\n",
    " \n",
    " (b) The points in the plane where Newton's method is periodic of period 2 or 3.  A point is periodic of period 1 means $N(z) = z$.  Periodic of period 2 means $N(N(z))=z$ and $N(z) \\neq z$.  Periodic of period 3 means $N(N(N(z))) = z$ while $N(z) \\neq z$ and $N(N(z))\\neq z$. \n",
    " \n",
    " So for example, the points of period $1$ are the solution to the equation\n",
    " $$z = N(z) = z - \\frac{z^3-1}{3z^2}$$\n",
    " which we can see are the roots of the original equation $z^3-1$. Similarly write-out the number of periodic points of period exactly 2, similarly for period 3.\n",
    " \n",
    " (c) Make a basins of attraction plot (feel free to use your code from the corresponding lab) for Newton's method for the polynomial $z^3-1$, using the colours red, green and blue.  Add to your plot the points where Newton's method eventually fails (part (a)) in 1, 2 or 3 iterations. Use yellow for these points.  Also add the periodic points of period 1, 2 and 3, using white for these points. Use a scatter plot so you can set the size of the points. Make points where Newton's method eventually fails smaller if it takes more iterations for them to fail, similarly make periodic points of larger period smaller in your plot. Ensure your image has a resolution of 800x800. Use **%matplotlib inline** to ensure your images save to your notebook. \n"
   ]
  },
  {
   "cell_type": "code",
   "execution_count": 2,
   "metadata": {
    "collapsed": true
   },
   "outputs": [],
   "source": [
    "## Problem 1\n",
    "import sympy as sp\n",
    "\n",
    "#(1)(a)\n",
    "\n",
    "def N(z):\n",
    "    '''\n",
    "    Perform one iteration of the Newton's method, for function:\n",
    "    z**3 - 1\n",
    "    every time it is caled\n",
    "    \n",
    "    '''\n",
    "    \n",
    "    return (2*(z**3)+1)/(3*(z**2))\n",
    "\n",
    "\n",
    "x = sp.Symbol('x')\n",
    "eq1 = N(x)\n",
    "eq2 = N(N(x))\n",
    "soln1 = sp.solve(eq1, x) #equating eq1 = 0 --> for these x values, the next time you put it in, N(eq1) = N(0) = fail.\n",
    "soln2 = sp.solve(eq2, x)"
   ]
  },
  {
   "cell_type": "code",
   "execution_count": 11,
   "metadata": {},
   "outputs": [
    {
     "name": "stdout",
     "output_type": "stream",
     "text": [
      "-0.7937 + 0.0000j\n",
      "0.3969 + -0.6874j\n",
      "0.3969 + 0.6874j\n",
      "\n",
      "-1.4338 + 0.0000j\n",
      "0.4396 + -0.3943j\n",
      "0.4396 + 0.3943j\n",
      "0.7169 + -1.2417j\n",
      "0.7169 + 1.2417j\n",
      "0.1216 + 0.5779j\n",
      "0.1216 + -0.5779j\n",
      "-0.5613 + 0.1836j\n",
      "-0.5613 + -0.1836j\n"
     ]
    }
   ],
   "source": [
    "#(1)(a) continued \n",
    "\n",
    "N2fail = []\n",
    "N3fail = []\n",
    "for i in range(len(soln1)):\n",
    "    w = complex(soln1[i])\n",
    "    N2fail.append(w)\n",
    "    print(\"%1.4f + %1.4fj\" % (w.real, w.imag))\n",
    "print()\n",
    "for i in range(len(soln2)):\n",
    "    w = complex(soln2[i])\n",
    "    N3fail.append(w)\n",
    "    print(\"%1.4f + %1.4fj\" % (w.real, w.imag))"
   ]
  },
  {
   "cell_type": "code",
   "execution_count": 12,
   "metadata": {},
   "outputs": [
    {
     "name": "stdout",
     "output_type": "stream",
     "text": [
      "The number of points where Newton's method fails after exactly two iterations is  3\n",
      "The number of points where Newton's method fails after exactly three iterations is  9\n"
     ]
    }
   ],
   "source": [
    "#(1)(a) continued \n",
    "\n",
    "print(\"The number of points where Newton's method fails after exactly two iterations is \", len(soln1))\n",
    "print(\"The number of points where Newton's method fails after exactly three iterations is \", len(soln2))"
   ]
  },
  {
   "cell_type": "code",
   "execution_count": 13,
   "metadata": {
    "collapsed": true
   },
   "outputs": [],
   "source": [
    "#(1)(b)\n",
    "\n",
    "eq3 = (N(x) - x)\n",
    "eq4 = (N(N(x)) - x)\n",
    "eq5 = sp.simplify((N(N(N(x))) - x))\n",
    "soln3 = sp.solve(eq3, x)\n",
    "soln4 = sp.solve(eq4, x)\n",
    "soln5 = sp.solve(eq5, x) "
   ]
  },
  {
   "cell_type": "code",
   "execution_count": 14,
   "metadata": {},
   "outputs": [
    {
     "name": "stdout",
     "output_type": "stream",
     "text": [
      "-0.6306 + -0.2578j\n",
      "-0.6306 + 0.2578j\n",
      "0.0920 + -0.6751j\n",
      "0.0920 + 0.6751j\n",
      "0.5386 + -0.4172j\n",
      "0.5386 + 0.4172j\n",
      "-0.5984 + -0.1293j\n",
      "-0.5984 + 0.1293j\n",
      "0.1872 + -0.5829j\n",
      "0.1872 + 0.5829j\n",
      "0.4112 + -0.4535j\n",
      "0.4112 + 0.4535j\n",
      "-1.3229 + -0.2417j\n",
      "-1.3229 + 0.2417j\n",
      "-0.7095 + -0.2264j\n",
      "-0.7095 + 0.2264j\n",
      "-0.4406 + -0.2348j\n",
      "-0.4406 + 0.2348j\n",
      "0.4521 + -1.2665j\n",
      "0.4521 + 1.2665j\n",
      "0.0170 + -0.4990j\n",
      "0.0170 + 0.4990j\n",
      "0.1587 + -0.7276j\n",
      "0.1587 + 0.7276j\n",
      "0.4236 + -0.2642j\n",
      "0.4236 + 0.2642j\n",
      "0.5508 + -0.5013j\n",
      "0.5508 + 0.5013j\n",
      "0.8708 + -1.0248j\n",
      "0.8708 + 1.0248j\n"
     ]
    }
   ],
   "source": [
    "#(1)(b) continued \n",
    "\n",
    "sol_list3 = []\n",
    "sol_list4 = []\n",
    "sol_list5 = []\n",
    "for i in range(len(soln3)):\n",
    "    w = complex(soln3[i])\n",
    "    sol_list3.append(w)\n",
    "\n",
    "for i in range(len(soln4)):\n",
    "    w = complex(soln4[i])\n",
    "    sol_list4.append(w)\n",
    "    if w not in sol_list3:\n",
    "        print(\"%1.4f + %1.4fj\" % (w.real, w.imag))\n",
    "\n",
    "for i in range(len(soln5)):\n",
    "    w = complex(soln5[i])\n",
    "    sol_list5.append(w)\n",
    "    if w not in sol_list4:\n",
    "        print(\"%1.4f + %1.4fj\" % (w.real, w.imag))\n"
   ]
  },
  {
   "cell_type": "code",
   "execution_count": 79,
   "metadata": {
    "collapsed": true
   },
   "outputs": [],
   "source": []
  },
  {
   "cell_type": "code",
   "execution_count": 16,
   "metadata": {
    "collapsed": true
   },
   "outputs": [],
   "source": [
    "#(1)(c)\n",
    "import numpy as np\n",
    "\n",
    "\n",
    "z = sp.Symbol('z')\n",
    "main_eqn = z**3 - 1\n",
    "\n",
    "r_list = sp.solve(main_eqn, z)\n",
    "roots = []\n",
    "for i in range(len(r_list)):\n",
    "    roots.append(complex(r_list[i]))\n",
    "\n",
    "roots = array(roots)\n",
    "\n",
    "rowsize = 1000\n",
    "columnsize = 1000\n",
    "\n",
    "domain = np.arange(rowsize*columnsize*3, dtype = float64) \n",
    "domain.shape = (rowsize, columnsize, 3)\n",
    "\n",
    "## np.arange(-2, 2, 240) somehow DID NOT WORK as it only had the number -2 in it. linspace however did.\n",
    "reals = np.linspace(-2, 2, rowsize) \n",
    "imaginary = np.linspace(-2, 2, columnsize)\n",
    "\n",
    "numbers = []\n",
    "\n",
    "\n",
    "for a in reals:\n",
    "    for b in imaginary:\n",
    "        numbers.append(complex(a, b))\n",
    "\n",
    "numbers = array(numbers)\n",
    "\n",
    "# outputs = N(N(N(N(N(N(N(N(N(numbers)))))))))"
   ]
  },
  {
   "cell_type": "code",
   "execution_count": 17,
   "metadata": {
    "collapsed": true
   },
   "outputs": [],
   "source": [
    "import matplotlib.pyplot as plt\n",
    "from matplotlib.colors import ListedColormap"
   ]
  },
  {
   "cell_type": "code",
   "execution_count": 9,
   "metadata": {},
   "outputs": [
    {
     "name": "stdout",
     "output_type": "stream",
     "text": [
      "[-0.5 -8.66025404e-01j -0.5 -8.66025404e-01j -0.5 -8.66025404e-01j ...,\n",
      "  1.0 +1.25635012e-16j  1.0 -1.17403384e-15j  1.0 -8.46619701e-15j]\n",
      "[ 1.0+0.j        -0.5-0.8660254j -0.5+0.8660254j]\n"
     ]
    }
   ],
   "source": [
    "# print(outputs)\n",
    "# print(roots)"
   ]
  },
  {
   "cell_type": "code",
   "execution_count": 18,
   "metadata": {},
   "outputs": [
    {
     "data": {
      "text/plain": [
       "<matplotlib.legend.Legend at 0x7fc5900f79b0>"
      ]
     },
     "execution_count": 18,
     "metadata": {},
     "output_type": "execute_result"
    },
    {
     "data": {
      "image/png": "[encoded data removed]",
      "text/plain": [
       "<matplotlib.figure.Figure at 0x7fc5900e0470>"
      ]
     },
     "metadata": {},
     "output_type": "display_data"
    }
   ],
   "source": [
    "colors = [(1, 0, 0), (0, 1, 0), (0, 0, 1)]  # R -> G -> B\n",
    "n_bins = [0, 1, 2]\n",
    "cmap_name = 'my_list'\n",
    "# Create the colormap\n",
    "cm = ListedColormap(cmap_name, colors, N= len(n_bins))\n",
    "\n",
    "cred = []\n",
    "\n",
    "for a in range(rowsize):\n",
    "        for b in range(columnsize): \n",
    "            \n",
    "            z_0 = complex(4*b/(columnsize - 1) - 2, -4*a/(rowsize - 1) + 2)\n",
    "            \n",
    "            root =  N(N(N(N(N(N(N(N(N(z_0)))))))))\n",
    "            \n",
    "            k = np.argmin(abs(root - roots))\n",
    "            if k == 0:\n",
    "                domain[a][b][0] = 0\n",
    "                domain[a][b][1] = 0 \n",
    "                domain[a][b][2] = 1 \n",
    "            elif k == 1:\n",
    "                domain[a][b][0] = 0\n",
    "                domain[a][b][1] = 1 \n",
    "                domain[a][b][2] = 0 \n",
    "            else:\n",
    "                domain[a][b][0] = 1 \n",
    "                domain[a][b][1] = 0 \n",
    "                domain[a][b][2] = 0\n",
    "\n",
    "plt.figure(figsize = (10, 10))\n",
    "plt.imshow(domain, extent=(-2,2, -2, 2), interpolation='nearest', origin='lower', cmap=cm)\n",
    "\n",
    "plot(array(sol_list3).real, array(sol_list3).imag, 'wo', label = 'Period 1') \n",
    "plot(array(sol_list4).real, array(sol_list4).imag, 'wo', label = 'Period 2')       \n",
    "plot(array(sol_list5).real, array(sol_list5).imag, 'wo', label = 'Period 3')\n",
    "plot(array(N2fail).real, array(N2fail).imag, 'yo', label = 'Fails at 2nd iteration')\n",
    "plot(array(N3fail).real, array(N3fail).imag, 'yo', label = 'Fails at 3rd iteration')\n",
    "plot(0, 0, 'yo', label = 'Fails at first iteration')\n",
    "xlabel(\"Real number line\")\n",
    "ylabel(\"Imaginary number line\")\n",
    "title(\"Newton iterator and z^3 - 1\")\n",
    "legend()"
   ]
  },
  {
   "cell_type": "markdown",
   "metadata": {
    "collapsed": true
   },
   "source": [
    "## Problem 2\n",
    "\n",
    "In this problem we ask you to extend your code from the second quiz. Recall the function\n",
    "\n",
    "$$ f(n) = \\left\\{ \\matrix{n/2 & if \\ n \\ even \\cr 3n+1 & if \\ n \\ odd} \\right.$$\n",
    "\n",
    "In the quiz, we asked you to apply $f$ repeatedly to integer inputs and keep track of how many iterations it took until you found the integer $1$. \n",
    "\n",
    "Write some code that computes a list, $L$, where the $k$-th element of the list is the number of times it takes to turn $k+1$ into $1$ by applying the function $f$.  \n",
    "\n",
    "Now consider the function $T(k) = L[0] + L[1] + \\cdots + L[k-1]$.   Make a plot of $T(k)$ for $k=1,2,3, \\cdots, 10000$.  Do a least squares interpolation on this plot, for a linear and quadratic fitting.   Try it again on the plot for $k=1,2,3, \\cdots, 100000$.  Does it look like the least squares fittings are converging?  "
   ]
  },
  {
   "cell_type": "code",
   "execution_count": 1,
   "metadata": {},
   "outputs": [],
   "source": [
    "## Problem 2\n",
    "def function(n):\n",
    "    if n%2 == 0:\n",
    "        return int(n/2)\n",
    "    else:\n",
    "        return int(3*n + 1)"
   ]
  },
  {
   "cell_type": "code",
   "execution_count": 3,
   "metadata": {
    "collapsed": true
   },
   "outputs": [],
   "source": [
    "def looper(N, K=0):\n",
    "    if N != 1:\n",
    "        K += 1\n",
    "        return(looper(function(N), K))\n",
    "    else:\n",
    "        return(N, K)\n"
   ]
  },
  {
   "cell_type": "code",
   "execution_count": 40,
   "metadata": {},
   "outputs": [
    {
     "data": {
      "image/png": "[encoded data removed]",
      "text/plain": [
       "<matplotlib.figure.Figure at 0x7f8ce0055f28>"
      ]
     },
     "metadata": {},
     "output_type": "display_data"
    }
   ],
   "source": [
    "k_max = 10000 #this code works, but running it for 10000 takes VERY LONG (30 min)\n",
    "def T(n):\n",
    "    L = []\n",
    "    for k in range(n):\n",
    "        L.append(looper(k+1, 0)[1])\n",
    "    \n",
    "    SUM = 0\n",
    "    for i in range(len(L)):\n",
    "        SUM += L[i]\n",
    "    return SUM\n",
    "\n",
    "N = array(range(1, k_max))\n",
    "o = list(map(T, N)) #coverting to array does not work. Converting to list does. If not converting, then map object.\n",
    "o = array(o)\n",
    "\n",
    "import matplotlib.pyplot as plt\n",
    "\n",
    "fig, ax = plt.subplots()\n",
    "plt.plot(N, o, color=\"blue\", label=str(\"T(k) vs. k, for k_max = %1.1f\" % (k_max)))\n",
    "plt.title(\"T(k) vs. k, with linear and quadratic least squares fitting\")\n",
    "\n",
    "#Linear fitting\n",
    "A1 = np.matrix([[1.0, x] for x in N]).T\n",
    "y1 = np.matrix([y for y in o]).T\n",
    "\n",
    "c_linear = np.matmul(np.matmul(np.linalg.inv(np.matmul(A1,A1.T)), A1), y1) \n",
    "\n",
    "c0=c_linear[0,0]\n",
    "c1=c_linear[1,0]\n",
    "\n",
    "plt.plot([min(N), max(N)], [c0+c1*min(N), c0+c1*max(N)], color=\"black\", label=str(\"%1.1f + %1.1f x\" % (c0,c1)))\n",
    "\n",
    "#Quadratic fitting\n",
    "A2 = np.matrix([[1.0, x, x*x] for x in N]).T\n",
    "y2 = np.matrix([y for y in o]).T\n",
    "\n",
    "c_quadratic = np.matmul(np.matmul(np.linalg.inv(np.matmul(A2,A2.T)), A2), y2)\n",
    "\n",
    "c2=c_quadratic[0,0]\n",
    "c3=c_quadratic[1,0]\n",
    "c4=c_quadratic[2,0]\n",
    "\n",
    "plt.plot([min(N), max(N)], [c2+c3*min(N)+c4*(min(N))**2, c2+c3*max(N)+c4*(max(N))**2], color=\"red\", label=str(\"%1.1f + %1.1f x + %1.1f x^2\" % (c2,c3, c4)))\n",
    "\n",
    "legend = ax.legend(loc='upper left')"
   ]
  },
  {
   "cell_type": "code",
   "execution_count": 18,
   "metadata": {
    "collapsed": true
   },
   "outputs": [],
   "source": []
  },
  {
   "cell_type": "code",
   "execution_count": null,
   "metadata": {
    "collapsed": true
   },
   "outputs": [],
   "source": []
  }
 ],
 "metadata": {
  "anaconda-cloud": {},
  "kernelspec": {
   "display_name": "Python 3",
   "language": "python",
   "name": "python3"
  },
  "language_info": {
   "codemirror_mode": {
    "name": "ipython",
    "version": 3
   },
   "file_extension": ".py",
   "mimetype": "text/x-python",
   "name": "python",
   "nbconvert_exporter": "python",
   "pygments_lexer": "ipython3",
   "version": "3.7.3"
  }
 },
 "nbformat": 4,
 "nbformat_minor": 1
}
