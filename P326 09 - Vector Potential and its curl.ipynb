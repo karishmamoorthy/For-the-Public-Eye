{
 "cells": [
  {
   "cell_type": "code",
   "execution_count": 1,
   "metadata": {},
   "outputs": [],
   "source": [
    "import numpy as np"
   ]
  },
  {
   "cell_type": "code",
   "execution_count": 92,
   "metadata": {},
   "outputs": [],
   "source": [
    "N = 10000 #resolution of integration"
   ]
  },
  {
   "cell_type": "code",
   "execution_count": 93,
   "metadata": {},
   "outputs": [],
   "source": [
    "t = np.linspace(0, 1, N+1)\n",
    "t = t*400*np.pi - 200*np.pi\n",
    "dt = 400*np.pi/N\n",
    "\n",
    "R = 1 #Assuming unit radius\n",
    "i = 1 #Assuming unit current\n",
    "\n",
    "x_helix = lambda s: R*np.cos(s)\n",
    "y_helix = lambda s: R*np.sin(s)\n",
    "z_helix = lambda s: 0.1*R*s/(2*np.pi)"
   ]
  },
  {
   "cell_type": "code",
   "execution_count": 94,
   "metadata": {},
   "outputs": [],
   "source": [
    "fx = lambda s, x0=0, y0=0, z0=0: (2*np.pi*i/(np.sqrt(4*np.pi*np.pi + 0.04)))*(-1*np.sin(s))/np.sqrt((x0 - x_helix(s))**2 + (y0 - y_helix(s))**2 + (z0 - z_helix(s))**2)\n",
    "fy = lambda s, x0=0, y0=0, z0=0: (2*np.pi*i/(np.sqrt(4*np.pi*np.pi + 0.04)))*(np.cos(s))/np.sqrt((x0 - x_helix(s))**2 + (y0 - y_helix(s))**2 + (z0 - z_helix(s))**2)\n",
    "fz = lambda s, x0=0, y0=0, z0=0: (0.2*R*i/(np.sqrt(4*np.pi*np.pi + 0.04)))/np.sqrt((x0 - x_helix(s))**2 + (y0 - y_helix(s))**2 + (z0 - z_helix(s))**2)"
   ]
  },
  {
   "cell_type": "code",
   "execution_count": 8,
   "metadata": {},
   "outputs": [],
   "source": [
    "import scipy.integrate as sp"
   ]
  },
  {
   "cell_type": "code",
   "execution_count": 69,
   "metadata": {},
   "outputs": [],
   "source": [
    "Ax = sp.quad(fx, -200*np.pi, 200*np.pi)"
   ]
  },
  {
   "cell_type": "code",
   "execution_count": 70,
   "metadata": {},
   "outputs": [
    {
     "name": "stderr",
     "output_type": "stream",
     "text": [
      "/opt/conda/lib/python3.6/site-packages/scipy/integrate/quadpack.py:364: IntegrationWarning: The maximum number of subdivisions (50) has been achieved.\n",
      "  If increasing the limit yields no improvement it is advised to analyze \n",
      "  the integrand in order to determine the difficulties.  If the position of a \n",
      "  local difficulty can be determined (singularity, discontinuity) one will \n",
      "  probably gain from splitting up the interval and calling the integrator \n",
      "  on the subranges.  Perhaps a special-purpose integrator should be used.\n",
      "  warnings.warn(msg, IntegrationWarning)\n"
     ]
    }
   ],
   "source": [
    "Ay = sp.quad(fy, -200*np.pi, 200*np.pi)"
   ]
  },
  {
   "cell_type": "code",
   "execution_count": 71,
   "metadata": {},
   "outputs": [],
   "source": [
    "Az = sp.quad(fz, -200*np.pi, 200*np.pi)"
   ]
  },
  {
   "cell_type": "code",
   "execution_count": 72,
   "metadata": {},
   "outputs": [
    {
     "name": "stdout",
     "output_type": "stream",
     "text": [
      "(0.0, 1.8497797995509784e-12)\n",
      "(-0.6918065652997205, 59.080145364831104)\n",
      "(11.98682074428962, 3.2140484593150045e-09)\n"
     ]
    }
   ],
   "source": [
    "print(Ax)\n",
    "print(Ay)\n",
    "print(Az)"
   ]
  },
  {
   "cell_type": "code",
   "execution_count": 95,
   "metadata": {},
   "outputs": [],
   "source": [
    "def integrator(x0, y0, z0):\n",
    "    x_integrand = fx(t, x0, y0, z0)\n",
    "    y_integrand = fy(t, x0, y0, z0)\n",
    "    z_integrand = fz(t, x0, y0, z0)\n",
    "    \n",
    "    Ax = 0\n",
    "    Ay = 0\n",
    "    Az = 0\n",
    "    \n",
    "    for j in range(len(t)):\n",
    "        Ax = Ax + x_integrand[j]*dt\n",
    "        Ay = Ay + y_integrand[j]*dt\n",
    "        Az = Az + z_integrand[j]*dt\n",
    "        \n",
    "    return Ax, Ay, Az"
   ]
  },
  {
   "cell_type": "code",
   "execution_count": 96,
   "metadata": {},
   "outputs": [],
   "source": [
    "ans1 = integrator(0, 0, 0)"
   ]
  },
  {
   "cell_type": "code",
   "execution_count": 97,
   "metadata": {},
   "outputs": [],
   "source": [
    "ans2 = integrator(0, 0, 10*R)"
   ]
  },
  {
   "cell_type": "code",
   "execution_count": 98,
   "metadata": {},
   "outputs": [],
   "source": [
    "ans3 = integrator(6*R, 0, 0)"
   ]
  },
  {
   "cell_type": "code",
   "execution_count": 99,
   "metadata": {},
   "outputs": [
    {
     "name": "stdout",
     "output_type": "stream",
     "text": [
      "Vector potential at (0,0,0) is  (9.3544435160521621e-14, 0.012183832638115163, 11.987218544552874)\n",
      "Vector potential at (0,0,10R) is  (0.9485853313362328, 0.065896458949104508, 7.3773711378921698)\n",
      "Vector potential at (6R,0,0) is  (3.2169895894226819e-14, 8.9926583001716587, 5.1392358487087648)\n"
     ]
    }
   ],
   "source": [
    "print(\"Vector potential at (0,0,0) is \", ans1)\n",
    "print(\"Vector potential at (0,0,10R) is \", ans2)\n",
    "print(\"Vector potential at (6R,0,0) is \", ans3)"
   ]
  },
  {
   "cell_type": "markdown",
   "metadata": {},
   "source": [
    "All of the above are expressed as multiples of $\\frac{\\mu_0 }{4 \\pi}$, assuming unit current and unit radius"
   ]
  },
  {
   "cell_type": "code",
   "execution_count": 62,
   "metadata": {},
   "outputs": [],
   "source": [
    "delta = 0.0001*R #this is the differential we are using to find the derivatives"
   ]
  },
  {
   "cell_type": "markdown",
   "metadata": {},
   "source": [
    "B at (x0, y0, z0)"
   ]
  },
  {
   "cell_type": "code",
   "execution_count": 65,
   "metadata": {},
   "outputs": [],
   "source": [
    "def curl(x0, y0, z0):\n",
    "    A_zy_neg = integrator(x0, y0 - delta, z0)[2]\n",
    "    A_zy_pos = integrator(x0, y0 + delta, z0)[2]\n",
    "\n",
    "    A_zy = (A_zy_pos - A_zy_neg)/(2*delta)\n",
    "    \n",
    "    \n",
    "    A_zx_neg = integrator(x0 - delta, y0, z0)[2]\n",
    "    A_zx_pos = integrator(x0 + delta, y0, z0)[2]\n",
    "\n",
    "    A_zx = (A_zx_pos - A_zx_neg)/(2*delta)\n",
    "    \n",
    "    \n",
    "    A_yx_neg = integrator(x0 - delta, y0, z0)[1]\n",
    "    A_yx_pos = integrator(x0 + delta, y0, z0)[1]\n",
    "\n",
    "    A_yx = (A_yx_pos - A_yx_neg)/(2*delta)\n",
    "    \n",
    "    \n",
    "    A_yz_neg = integrator(x0, y0, z0 - delta)[1]\n",
    "    A_yz_pos = integrator(x0, y0, z0 + delta)[1]\n",
    "\n",
    "    A_yz = (A_yz_pos - A_yz_neg)/(2*delta)\n",
    "    \n",
    "    \n",
    "    A_xy_neg = integrator(x0, y0 - delta, z0)[0]\n",
    "    A_xy_pos = integrator(x0, y0 + delta, z0)[0]\n",
    "\n",
    "    A_xy = (A_xy_pos - A_xy_neg)/(2*delta)\n",
    "    \n",
    "    \n",
    "    A_xz_neg = integrator(x0, y0 - delta, z0)[0]\n",
    "    A_xz_pos = integrator(x0, y0 + delta, z0)[0]\n",
    "\n",
    "    A_xz = (A_xz_pos - A_xz_neg)/(2*delta)\n",
    "    \n",
    "    return A_zy - A_yz, A_xz - A_zx, A_yx - A_xy"
   ]
  },
  {
   "cell_type": "code",
   "execution_count": 100,
   "metadata": {},
   "outputs": [],
   "source": [
    "B_000 = curl(0, 0, 0)\n",
    "B_0010R = curl(0, 0, 10*R)\n",
    "B_6R00 = curl(6*R, 0, 0)"
   ]
  },
  {
   "cell_type": "code",
   "execution_count": 101,
   "metadata": {},
   "outputs": [
    {
     "name": "stdout",
     "output_type": "stream",
     "text": [
      "Magnetic field at (0,0,0) is  (-2.4005970822305045e-10, -62.488386373183189, 124.97688686129558)\n",
      "Magnetic field at (0,0,10R) is  (-0.047605733152766838, -31.362845801729542, 62.784500942386352)\n",
      "Magnetic field at (6R,0,0) is  (-1.9539925233402755e-10, -0.92472162735300301, -0.39564052364306534)\n"
     ]
    }
   ],
   "source": [
    "print(\"Magnetic field at (0,0,0) is \", B_000)\n",
    "print(\"Magnetic field at (0,0,10R) is \", B_0010R)\n",
    "print(\"Magnetic field at (6R,0,0) is \", B_6R00)"
   ]
  },
  {
   "cell_type": "code",
   "execution_count": null,
   "metadata": {},
   "outputs": [],
   "source": []
  }
 ],
 "metadata": {
  "kernelspec": {
   "display_name": "Python 3",
   "language": "python",
   "name": "python3"
  },
  "language_info": {
   "codemirror_mode": {
    "name": "ipython",
    "version": 3
   },
   "file_extension": ".py",
   "mimetype": "text/x-python",
   "name": "python",
   "nbconvert_exporter": "python",
   "pygments_lexer": "ipython3",
   "version": "3.6.4"
  }
 },
 "nbformat": 4,
 "nbformat_minor": 2
}
